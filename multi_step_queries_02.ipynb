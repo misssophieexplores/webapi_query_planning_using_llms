{
 "cells": [
  {
   "cell_type": "markdown",
   "metadata": {},
   "source": [
    "## "
   ]
  },
  {
   "cell_type": "markdown",
   "metadata": {},
   "source": [
    "# Ready, Set.."
   ]
  },
  {
   "cell_type": "markdown",
   "metadata": {},
   "source": [
    "Set up: Imports, Document Loading"
   ]
  },
  {
   "cell_type": "code",
   "execution_count": 2,
   "metadata": {},
   "outputs": [],
   "source": [
    "import json\n",
    "import os\n",
    "import pandas as pd\n",
    "import time\n",
    "import wandb\n",
    "# from datetime import datetime, timedelta\n",
    "from dotenv import load_dotenv\n",
    "from openai import OpenAI\n",
    "# from requests import JSONDecodeError, ConnectionError, ConnectTimeout\n",
    "from src.utils import *\n",
    "from src.set_datatypes import set_datatypes\n",
    "from src.main_functions import *\n",
    "from src.function_mapping import function_mapping"
   ]
  },
  {
   "cell_type": "code",
   "execution_count": 3,
   "metadata": {},
   "outputs": [],
   "source": [
    "import numpy as np"
   ]
  },
  {
   "cell_type": "code",
   "execution_count": 4,
   "metadata": {},
   "outputs": [
    {
     "name": "stdout",
     "output_type": "stream",
     "text": [
      "Set day: 2024-03-25\n"
     ]
    }
   ],
   "source": [
    "# set flag for summarization with an LLM or not (for ingredients and instructions in 'get_recipe_info')\n",
    "summary_flag = False\n",
    "# Set day in config.py\n",
    "print(f\"Set day: {DAY}\")"
   ]
  },
  {
   "cell_type": "code",
   "execution_count": 4,
   "metadata": {},
   "outputs": [],
   "source": [
    "\n",
    "# read in prompt.csv\n",
    "df_prompts = pd.read_csv(\"prompts_and_responses_02/prompts_02.csv\", sep=\";\")\n",
    "df_prompts = set_datatypes(df_prompts)\n",
    "# define function_map which maps functions to their corresponding parameters and the columns of intended use and actual use:\n",
    "function_map  = function_mapping(df_prompts)\n"
   ]
  },
  {
   "cell_type": "code",
   "execution_count": 5,
   "metadata": {},
   "outputs": [
    {
     "data": {
      "text/html": [
       "<div>\n",
       "<style scoped>\n",
       "    .dataframe tbody tr th:only-of-type {\n",
       "        vertical-align: middle;\n",
       "    }\n",
       "\n",
       "    .dataframe tbody tr th {\n",
       "        vertical-align: top;\n",
       "    }\n",
       "\n",
       "    .dataframe thead th {\n",
       "        text-align: right;\n",
       "    }\n",
       "</style>\n",
       "<table border=\"1\" class=\"dataframe\">\n",
       "  <thead>\n",
       "    <tr style=\"text-align: right;\">\n",
       "      <th></th>\n",
       "      <th>Unnamed: 0</th>\n",
       "      <th>ID</th>\n",
       "      <th>CONTROL_PROMPT_ID</th>\n",
       "      <th>user_prompt</th>\n",
       "      <th>LLM</th>\n",
       "      <th>intended_steps</th>\n",
       "      <th>steps</th>\n",
       "      <th>summary_flag</th>\n",
       "      <th>completion</th>\n",
       "      <th>correct_functions</th>\n",
       "      <th>...</th>\n",
       "      <th>parameter_dish_name</th>\n",
       "      <th>used_dish_name</th>\n",
       "      <th>function_image_classification</th>\n",
       "      <th>used_image_classification</th>\n",
       "      <th>parameter_image_url</th>\n",
       "      <th>used_image_url</th>\n",
       "      <th>function_compute_shopping_list</th>\n",
       "      <th>used_compute_shopping_list</th>\n",
       "      <th>parameter_items_list</th>\n",
       "      <th>used_items_list</th>\n",
       "    </tr>\n",
       "  </thead>\n",
       "  <tbody>\n",
       "    <tr>\n",
       "      <th>0</th>\n",
       "      <td>0</td>\n",
       "      <td>0</td>\n",
       "      <td>0</td>\n",
       "      <td>I would like to make a salad. I prefer Greek c...</td>\n",
       "      <td>gpt-3.5-turbo</td>\n",
       "      <td>1</td>\n",
       "      <td>1</td>\n",
       "      <td>False</td>\n",
       "      <td>True</td>\n",
       "      <td>True</td>\n",
       "      <td>...</td>\n",
       "      <td>NaN</td>\n",
       "      <td>NaN</td>\n",
       "      <td>NaN</td>\n",
       "      <td>NaN</td>\n",
       "      <td>NaN</td>\n",
       "      <td>NaN</td>\n",
       "      <td>NaN</td>\n",
       "      <td>NaN</td>\n",
       "      <td>NaN</td>\n",
       "      <td>NaN</td>\n",
       "    </tr>\n",
       "    <tr>\n",
       "      <th>1</th>\n",
       "      <td>1</td>\n",
       "      <td>1</td>\n",
       "      <td>0</td>\n",
       "      <td>I would like to make a salad. I prefer Greek c...</td>\n",
       "      <td>gpt-4-turbo</td>\n",
       "      <td>1</td>\n",
       "      <td>1</td>\n",
       "      <td>False</td>\n",
       "      <td>True</td>\n",
       "      <td>True</td>\n",
       "      <td>...</td>\n",
       "      <td>NaN</td>\n",
       "      <td>NaN</td>\n",
       "      <td>NaN</td>\n",
       "      <td>NaN</td>\n",
       "      <td>NaN</td>\n",
       "      <td>NaN</td>\n",
       "      <td>NaN</td>\n",
       "      <td>NaN</td>\n",
       "      <td>NaN</td>\n",
       "      <td>NaN</td>\n",
       "    </tr>\n",
       "  </tbody>\n",
       "</table>\n",
       "<p>2 rows × 82 columns</p>\n",
       "</div>"
      ],
      "text/plain": [
       "   Unnamed: 0  ID  CONTROL_PROMPT_ID  \\\n",
       "0           0   0                  0   \n",
       "1           1   1                  0   \n",
       "\n",
       "                                         user_prompt            LLM  \\\n",
       "0  I would like to make a salad. I prefer Greek c...  gpt-3.5-turbo   \n",
       "1  I would like to make a salad. I prefer Greek c...    gpt-4-turbo   \n",
       "\n",
       "   intended_steps  steps  summary_flag  completion  correct_functions  ...  \\\n",
       "0               1      1         False        True               True  ...   \n",
       "1               1      1         False        True               True  ...   \n",
       "\n",
       "   parameter_dish_name  used_dish_name  function_image_classification  \\\n",
       "0                  NaN             NaN                            NaN   \n",
       "1                  NaN             NaN                            NaN   \n",
       "\n",
       "   used_image_classification  parameter_image_url  used_image_url  \\\n",
       "0                        NaN                  NaN             NaN   \n",
       "1                        NaN                  NaN             NaN   \n",
       "\n",
       "  function_compute_shopping_list used_compute_shopping_list  \\\n",
       "0                            NaN                        NaN   \n",
       "1                            NaN                        NaN   \n",
       "\n",
       "  parameter_items_list used_items_list  \n",
       "0                  NaN             NaN  \n",
       "1                  NaN             NaN  \n",
       "\n",
       "[2 rows x 82 columns]"
      ]
     },
     "execution_count": 5,
     "metadata": {},
     "output_type": "execute_result"
    }
   ],
   "source": [
    "# some statistics about previous answers:\n",
    "df_path = \"prompts_and_responses_02/responses_02.csv\"\n",
    "df = pd.read_csv(df_path, sep=';')\n",
    "\n",
    "df.head(2)"
   ]
  },
  {
   "cell_type": "code",
   "execution_count": 6,
   "metadata": {},
   "outputs": [
    {
     "name": "stdout",
     "output_type": "stream",
     "text": [
      "#answers: 70\n",
      "#not completed: 15\n",
      "#false functions: 15\n",
      "#false params: 16\n"
     ]
    }
   ],
   "source": [
    "# print length of df\n",
    "print(f\"#answers: {len(df)}\")\n",
    "# print number of 'completion' false:\n",
    "print(f\"#not completed: {len(df[df['completion'] == False])}\")\n",
    "print(f\"#false functions: {len(df[df['correct_functions'] == False])}\")\n",
    "print(f\"#false params: {len(df[df['correct_params'] == False])}\")"
   ]
  },
  {
   "cell_type": "code",
   "execution_count": 7,
   "metadata": {},
   "outputs": [
    {
     "data": {
      "text/plain": [
       "intended_steps\n",
       "2    20\n",
       "3    20\n",
       "4    20\n",
       "1     8\n",
       "5     2\n",
       "Name: count, dtype: int64"
      ]
     },
     "execution_count": 7,
     "metadata": {},
     "output_type": "execute_result"
    }
   ],
   "source": [
    "df_prompts.intended_steps.value_counts()"
   ]
  },
  {
   "cell_type": "code",
   "execution_count": 8,
   "metadata": {},
   "outputs": [],
   "source": [
    "# define counter (counter is updated with each iteration):\n",
    "counter = -1"
   ]
  },
  {
   "cell_type": "markdown",
   "metadata": {},
   "source": [
    "# GO!"
   ]
  },
  {
   "cell_type": "code",
   "execution_count": null,
   "metadata": {},
   "outputs": [],
   "source": [
    "# set model and prompt as in prompt.csv\n",
    "counter += 1\n",
    "model_gpt = df_prompts.iloc[counter][\"LLM\"]\n",
    "user_prompt = df_prompts.iloc[counter][\"user_prompt\"]\n",
    "print(\"counter: \", counter) \n",
    "print(\"LLM: \", model_gpt)\n",
    "print(user_prompt)"
   ]
  },
  {
   "cell_type": "code",
   "execution_count": null,
   "metadata": {},
   "outputs": [],
   "source": [
    "# call the main function:\n",
    "messages, error_log = main(user_prompt, model_gpt, summary_flag)"
   ]
  },
  {
   "cell_type": "code",
   "execution_count": null,
   "metadata": {},
   "outputs": [],
   "source": [
    "# Full conversation\n",
    "messages "
   ]
  },
  {
   "cell_type": "code",
   "execution_count": null,
   "metadata": {},
   "outputs": [],
   "source": [
    "str(messages)"
   ]
  },
  {
   "cell_type": "code",
   "execution_count": null,
   "metadata": {},
   "outputs": [],
   "source": [
    "error_log"
   ]
  },
  {
   "cell_type": "code",
   "execution_count": null,
   "metadata": {},
   "outputs": [],
   "source": [
    "responses = response_check(user_prompt, messages, model_gpt, summary_flag) # manually set flags and write comments\n",
    "print_responses(responses)"
   ]
  },
  {
   "cell_type": "code",
   "execution_count": null,
   "metadata": {},
   "outputs": [],
   "source": [
    "# load current row of df_prompts:\n",
    "new_row = df_prompts.iloc[[counter]].copy(deep=True)\n",
    "\n",
    "# Update new_row with responses, handling types appropriately\n",
    "for key, value in responses.items():\n",
    "    if key in new_row.columns:\n",
    "        # Update the value in new_row for the corresponding key\n",
    "        new_row.at[new_row.index[0], key] = value\n",
    "    else:\n",
    "        new_row[key] = value\n",
    "     "
   ]
  },
  {
   "cell_type": "code",
   "execution_count": null,
   "metadata": {},
   "outputs": [],
   "source": [
    "new_row"
   ]
  },
  {
   "cell_type": "code",
   "execution_count": null,
   "metadata": {},
   "outputs": [],
   "source": [
    "   \n",
    "if len(error_log) > 0:\n",
    "    new_row['error_log'] = str(error_log)\n",
    "\n",
    "# copy the rest of the fields from the csv to a new df\n",
    "updated_row = update_function_usage(new_row[0:1], function_map) \n",
    "updated_row_df = pd.DataFrame([updated_row])\n",
    "# updated_row_df"
   ]
  },
  {
   "cell_type": "code",
   "execution_count": null,
   "metadata": {},
   "outputs": [],
   "source": [
    "# load previous responses as df\n",
    "df_path = \"prompts_and_responses_02/responses_02.csv\"\n",
    "df = pd.read_csv(df_path, sep=';')\n",
    "df = set_datatypes(df)\n",
    "df = pd.concat([df, updated_row_df], ignore_index=True)\n",
    "df.tail(3)"
   ]
  },
  {
   "cell_type": "code",
   "execution_count": null,
   "metadata": {},
   "outputs": [],
   "source": [
    "# save the updated dataframe as the df\n",
    "df.to_csv(df_path, index=False, sep=\";\") # saving the dataframe as a csv file"
   ]
  },
  {
   "cell_type": "code",
   "execution_count": null,
   "metadata": {},
   "outputs": [],
   "source": [
    "# Convert the DataFrame into a W&B Table\n",
    "log_df = df.copy(deep=True)\n",
    "log_df = safe_replace_na_with_none(log_df)\n",
    "log_df['messages'] = log_df['messages'].apply(json.dumps)\n",
    "# change the datatype of CONTROL_PROMPT_ID to int\n",
    "log_df['CONTROL_PROMPT_ID'] = log_df['CONTROL_PROMPT_ID'].astype(int)\n",
    "log_df['steps'] = log_df['steps'].astype(int)\n",
    "log_df.tail(3)"
   ]
  },
  {
   "cell_type": "code",
   "execution_count": null,
   "metadata": {},
   "outputs": [],
   "source": [
    "logging_table = wandb.Table(dataframe=log_df) # Convert the DataFrame into a W&B Table\n",
    "# Add the table to an Artifact to increase the row\n",
    "logging_table_artifact = wandb.Artifact(\"responses\", type=\"dataset\")\n",
    "logging_table_artifact.add(logging_table, \"responses\")\n",
    "\n",
    "# Log the raw csv file within an artifact to preserve our data\n",
    "logging_table_artifact.add_file(df_path)"
   ]
  },
  {
   "cell_type": "code",
   "execution_count": null,
   "metadata": {},
   "outputs": [],
   "source": [
    "WANDB_NOTEBOOK_NAME=\"LLM_multi_step_query\" # set notebook name\n",
    "# Initialize W&B\n",
    "run = wandb.init(\n",
    "    project=\"LLM_multi_step_query\",\n",
    "    entity=\"misssophie\"\n",
    "    )\n",
    "# Log the table to visualize with a run...\n",
    "run.log({\"responses\": logging_table})\n",
    "\n",
    "# and Log as an Artifact to increase the available row limit!\n",
    "run.log_artifact(logging_table_artifact)"
   ]
  },
  {
   "cell_type": "code",
   "execution_count": null,
   "metadata": {},
   "outputs": [],
   "source": [
    "wandb.finish()"
   ]
  },
  {
   "cell_type": "markdown",
   "metadata": {},
   "source": [
    "# Query Plan in NLP"
   ]
  },
  {
   "cell_type": "markdown",
   "metadata": {},
   "source": [
    "### Preparations (NL)"
   ]
  },
  {
   "cell_type": "code",
   "execution_count": 5,
   "metadata": {},
   "outputs": [],
   "source": [
    "df_path = \"prompts_and_responses_02/responses_02.csv\"\n",
    "df = pd.read_csv(df_path, sep=';')"
   ]
  },
  {
   "cell_type": "code",
   "execution_count": 6,
   "metadata": {},
   "outputs": [
    {
     "data": {
      "text/html": [
       "<div>\n",
       "<style scoped>\n",
       "    .dataframe tbody tr th:only-of-type {\n",
       "        vertical-align: middle;\n",
       "    }\n",
       "\n",
       "    .dataframe tbody tr th {\n",
       "        vertical-align: top;\n",
       "    }\n",
       "\n",
       "    .dataframe thead th {\n",
       "        text-align: right;\n",
       "    }\n",
       "</style>\n",
       "<table border=\"1\" class=\"dataframe\">\n",
       "  <thead>\n",
       "    <tr style=\"text-align: right;\">\n",
       "      <th></th>\n",
       "      <th>ID</th>\n",
       "      <th>CONTROL_PROMPT_ID</th>\n",
       "      <th>user_prompt</th>\n",
       "      <th>LLM</th>\n",
       "      <th>intended_steps</th>\n",
       "      <th>completion</th>\n",
       "      <th>correct_functions</th>\n",
       "      <th>correct_params</th>\n",
       "      <th>correct_interpretation</th>\n",
       "      <th>comments</th>\n",
       "      <th>error</th>\n",
       "      <th>messages</th>\n",
       "    </tr>\n",
       "  </thead>\n",
       "  <tbody>\n",
       "    <tr>\n",
       "      <th>32</th>\n",
       "      <td>32</td>\n",
       "      <td>22</td>\n",
       "      <td>Please give me a list of ingredients for a rec...</td>\n",
       "      <td>gpt-3.5-turbo</td>\n",
       "      <td>3</td>\n",
       "      <td>None</td>\n",
       "      <td>None</td>\n",
       "      <td>None</td>\n",
       "      <td>None</td>\n",
       "      <td>None</td>\n",
       "      <td>None</td>\n",
       "      <td>None</td>\n",
       "    </tr>\n",
       "    <tr>\n",
       "      <th>40</th>\n",
       "      <td>40</td>\n",
       "      <td>26</td>\n",
       "      <td>Which white wine is on offer today? Please pai...</td>\n",
       "      <td>gpt-3.5-turbo</td>\n",
       "      <td>3</td>\n",
       "      <td>None</td>\n",
       "      <td>None</td>\n",
       "      <td>None</td>\n",
       "      <td>None</td>\n",
       "      <td>None</td>\n",
       "      <td>None</td>\n",
       "      <td>None</td>\n",
       "    </tr>\n",
       "  </tbody>\n",
       "</table>\n",
       "</div>"
      ],
      "text/plain": [
       "    ID  CONTROL_PROMPT_ID                                        user_prompt  \\\n",
       "32  32                 22  Please give me a list of ingredients for a rec...   \n",
       "40  40                 26  Which white wine is on offer today? Please pai...   \n",
       "\n",
       "              LLM  intended_steps completion correct_functions correct_params  \\\n",
       "32  gpt-3.5-turbo               3       None              None           None   \n",
       "40  gpt-3.5-turbo               3       None              None           None   \n",
       "\n",
       "   correct_interpretation comments error messages  \n",
       "32                   None     None  None     None  \n",
       "40                   None     None  None     None  "
      ]
     },
     "execution_count": 6,
     "metadata": {},
     "output_type": "execute_result"
    }
   ],
   "source": [
    "# select those rows where the completion is False and where inteded_steps is greater or equal to 3\n",
    "df_not_completed = df[(df['completion'] == False) & (df['intended_steps'] >= 3)]\n",
    "\n",
    "# Restrict to only the columns needed for running the new prompts\n",
    "df_not_completed = df_not_completed[['ID', 'CONTROL_PROMPT_ID', 'user_prompt', 'LLM', 'intended_steps']]\n",
    "# if not already present, add the 'needed_columns' to the df_not_completed\n",
    "needed_columns = ['ID', 'CONTROL_PROMPT_ID', 'user_prompt', 'LLM', 'intended_steps',\n",
    "       'completion', 'correct_functions',\n",
    "       'correct_params', 'correct_interpretation', 'comments', 'error','messages']\n",
    "for col in needed_columns:\n",
    "    if col not in df_not_completed.columns:\n",
    "        df_not_completed[col] = None\n",
    "df_not_completed.head(2)\n"
   ]
  },
  {
   "cell_type": "code",
   "execution_count": 53,
   "metadata": {},
   "outputs": [
    {
     "data": {
      "text/plain": [
       "15"
      ]
     },
     "execution_count": 53,
     "metadata": {},
     "output_type": "execute_result"
    }
   ],
   "source": [
    "len(df_not_completed)"
   ]
  },
  {
   "cell_type": "code",
   "execution_count": 11,
   "metadata": {},
   "outputs": [],
   "source": [
    "counter = 5"
   ]
  },
  {
   "cell_type": "markdown",
   "metadata": {},
   "source": [
    "### Running NL prompts"
   ]
  },
  {
   "cell_type": "code",
   "execution_count": 94,
   "metadata": {},
   "outputs": [
    {
     "name": "stdout",
     "output_type": "stream",
     "text": [
      "counter: 14/14\n",
      "LLM:  gpt-4-turbo\n",
      "Using veggies that are currently on offer, please make a recipe suggestion and pair a wine with it. I prefer European, and Chinese cuisines. I am intolerant to peanuts.\n"
     ]
    }
   ],
   "source": [
    "counter += 1\n",
    "model_gpt = df_not_completed.iloc[counter][\"LLM\"]\n",
    "user_prompt = df_not_completed.iloc[counter][\"user_prompt\"]\n",
    "print(f\"counter: {counter}/{len(df_not_completed)-1}\") \n",
    "print(\"LLM: \", model_gpt)\n",
    "print(user_prompt)"
   ]
  },
  {
   "cell_type": "markdown",
   "metadata": {},
   "source": []
  },
  {
   "cell_type": "code",
   "execution_count": 95,
   "metadata": {},
   "outputs": [],
   "source": [
    "# call the execution plan function:\n",
    "messages = execution_plan(user_prompt, model_gpt, summary_flag)"
   ]
  },
  {
   "cell_type": "code",
   "execution_count": 96,
   "metadata": {},
   "outputs": [
    {
     "data": {
      "text/plain": [
       "[{'role': 'system',\n",
       "  'content': 'You are asked to complete a task by a user. Please help the user by outlining a detailed query plan in natural language. The query plan should describe the steps you would take and the functions you might use to achieve the user\\'s goal. Here is a catalog of available functions: [{\"name\": \"get_current_date\", \"description\": \"Returns current the date, time, and weekday.\", \"parameters\": {}}, {\"name\": \"is_public_holiday\", \"description\": \"Retrieves all public holidays of a German state. Default is \\'Baden-W\\\\u00fcrttemberg\\'.\", \"parameters\": {\"type\": \"object\", \"properties\": {\"state\": {\"type\": \"string\", \"description\": \"Name of state.\"}}, \"required\": [\"state\"]}}, {\"name\": \"fruit_and_veg_offers\", \"description\": \"Retrieve supermarket offers for fruit and veg.\", \"parameters\": {\"type\": \"object\", \"properties\": {\"date\": {\"type\": \"string\", \"description\": \"Date for which the offers should be retrieved. Offers always start on a Monday of a week. Format: \\'YYYY-MM-DD\\'.\"}}, \"required\": [\"date\"]}}, {\"name\": \"wine_selection_or_offers\", \"description\": \"Retrieve the wine selection from the supermarket. You can filter by wine type (red, rose, white) or offers on a specific date.\", \"parameters\": {\"type\": \"object\", \"properties\": {\"wine_type\": {\"type\": \"string\", \"description\": \"Filter the wine selection by wine type. Options: \\'red\\', \\'rose\\', \\'white\\'. Default is None.\"}, \"date\": {\"type\": \"string\", \"description\": \"Date for which the offers should be retrieved. Format: \\'YYYY-MM-DD\\'.\"}}, \"required\": []}}, {\"name\": \"get_recipe_info\", \"description\": \"Retrieves detailed information about a recipe given its ID. This information includes the recipe\\'s title and, optionally, cooking instructions, ingredient details such as names, IDs, and measurements, as well as preparation and cooking times.\", \"parameters\": {\"type\": \"object\", \"properties\": {\"recipe_id\": {\"type\": \"integer\", \"description\": \"The unique identifier of the recipe.\"}, \"list_keys\": {\"oneOf\": [{\"type\": \"null\"}, {\"type\": \"array\", \"items\": {\"type\": \"string\"}}], \"description\": \"Optional. A list of information you want to retrieve. Options include \\'time\\' for total, preparation, and cooking times;\\'instructions\\' for cooking instructions; \\'ingredients_id\\' for ingredient IDs; \\'ingredients\\' for ingredient names (optionally include \\'measurements\\' for quantities). Can be None.\"}}, \"required\": [\"recipe_id\"]}}, {\"name\": \"find_recipe\", \"description\": \"Finds recipes based on the name, ingredients, dietary preferences, cuisines, or maximal preparation time. Returns a list of recipes with their titles, IDs, and URL for images.\", \"parameters\": {\"type\": \"object\", \"properties\": {\"query\": {\"type\": \"string\", \"description\": \"Name or main ingredient of recipe.\"}, \"diet\": {\"type\": \"string\", \"description\": \"Dietary preferences. Options are: \\'vegetarian\\', \\'lacto vegetarian\\', \\'ovo vegetarian\\', \\'vegan\\', \\'pescetarian\\', \\'paleo\\', \\'primal\\'.\"}, \"include_ingredients\": {\"type\": \"array\", \"items\": {\"type\": \"string\"}, \"description\": \"Ingredients that should be included.\"}, \"exclude_ingredients\": {\"type\": \"array\", \"items\": {\"type\": \"string\"}, \"description\": \"Ingredients that should not be contained in the recipe.\"}, \"type\": {\"type\": \"string\", \"description\": \"Type of meal. Default is \\'main course\\'.\"}, \"cuisine\": {\"type\": \"string\", \"description\": \"Cuisine preferences. Options are: \\'African\\', \\'Asian\\', \\'American\\', \\'British\\', \\'Cajun\\', \\'Caribbean\\', \\'Chinese\\', \\'Eastern European\\', \\'European\\', \\'French\\', \\'German\\', \\'Greek\\', \\'Indian\\', \\'Irish\\', \\'Italian\\', \\'Japanese\\', \\'Jewish\\', \\'Korean\\', \\'Latin American\\', \\'Mediterranean\\', \\'Mexican\\', \\'Middle Eastern\\', \\'Nordic\\', \\'Southern\\', \\'Spanish\\', \\'Thai\\', \\'Vietnamese\\'.\"}, \"exclude_cuisine\": {\"type\": \"string\", \"description\": \"Cuisines which should be avoided. Options are: \\'African\\', \\'Asian\\', \\'American\\', \\'British\\', \\'Cajun\\', \\'Caribbean\\', \\'Chinese\\', \\'Eastern European\\', \\'European\\', \\'French\\', \\'German\\', \\'Greek\\', \\'Indian\\', \\'Irish\\', \\'Italian\\', \\'Japanese\\', \\'Jewish\\', \\'Korean\\', \\'Latin American\\', \\'Mediterranean\\', \\'Mexican\\', \\'Middle Eastern\\', \\'Nordic\\', \\'Southern\\', \\'Spanish\\', \\'Thai\\', \\'Vietnamese\\'\"}, \"max_ready_time\": {\"type\": \"integer\", \"description\": \"Maximal time for preparation and cooking (in minutes).\"}}, \"required\": [\"query\"]}}, {\"name\": \"translate\", \"description\": \"Translates German text to English.\", \"parameters\": {\"type\": \"object\", \"properties\": {\"text\": {\"type\": \"string\", \"description\": \"Text in German that should be translated to English.\"}}, \"required\": [\"text\"]}}, {\"name\": \"dish_pairing_for_wine\", \"description\": \"Suggests food pairings for a given wine, providing a general description of the wine and a list of dishes that pair well with it.\", \"parameters\": {\"type\": \"object\", \"properties\": {\"grape_name\": {\"type\": \"string\", \"description\": \"The wine for which to suggest food pairings. Please provide the grape variety for best results. \"}}, \"required\": [\"grape_name\"]}}, {\"name\": \"wine_pairing\", \"description\": \"Provides wine pairing suggestions for a specified dish. Returns a selection of suitable wines along with a detailed description and, when applicable, a specific product recommendation.\", \"parameters\": {\"type\": \"object\", \"properties\": {\"dish_name\": {\"type\": \"string\", \"description\": \"The name of the food or dish for which wine suggestions are desired.\"}}, \"required\": [\"dish_name\"]}}, {\"name\": \"image_classification\", \"description\": \"Retrieves the name of a dish given the URL of an image.\", \"parameters\": {\"type\": \"object\", \"properties\": {\"image_url\": {\"type\": \"string\", \"description\": \"The URL of an image.\"}}, \"required\": [\"image_url\"]}}, {\"name\": \"compute_shopping_list\", \"description\": \"Adds items to a shopping list. The resulting shopping list includes the quantity and unit of each item as well as their aisle in the supermarket.\", \"parameters\": {\"type\": \"object\", \"properties\": {\"items_list\": {\"type\": \"array\", \"items\": {\"type\": \"string\"}, \"description\": \"A list of items to add to the shopping list. Each item should be a string in the format \\'quantity unit item\\'.\"}}, \"required\": [\"items_list\"]}}, {\"name\": \"fridge_items\", \"description\": \"Retrieves a list of vegetables that are currently in the fridge.\", \"parameters\": {\"type\": \"object\", \"properties\": {\"date\": {\"type\": \"string\", \"description\": \"The current date in the format \\'YYYY-MM-DD\\'.\"}}, \"required\": [\"date\"]}}].'},\n",
       " {'role': 'user',\n",
       "  'content': 'Using veggies that are currently on offer, please make a recipe suggestion and pair a wine with it. I prefer European, and Chinese cuisines. I am intolerant to peanuts.'},\n",
       " {'role': 'assistant',\n",
       "  'content': 'To complete your request for a recipe suggestion using vegetables currently on offer and pairing it with a suitable wine, while considering your preference for European and Chinese cuisines and your peanut intolerance, I will follow these steps:\\n\\n1. **Retrieve Current Date**: Use the `get_current_date` function to determine today\\'s date. This will help in fetching the relevant offers for vegetables.\\n\\n2. **Fetch Vegetable Offers**: With the current date obtained, use the `fruit_and_veg_offers` function to retrieve the list of vegetables that are currently on offer. This function requires the date parameter, which should be the start of the current week.\\n\\n3. **Find Suitable Recipes**: Using the list of vegetables on offer, employ the `find_recipe` function to search for recipes. The parameters will include:\\n   - `query`: Use the names of the vegetables retrieved from the offers.\\n   - `exclude_ingredients`: Include \"peanuts\" to ensure the recipes are safe for your intolerance.\\n   - `cuisine`: Set to \"European\" and \"Chinese\" to match your cuisine preferences.\\n\\n4. **Select a Recipe**: From the list of recipes obtained, select one that appeals most based on your preferences or any additional criteria like preparation time or complexity.\\n\\n5. **Get Detailed Recipe Information**: Once a recipe is selected, use the `get_recipe_info` function with the recipe ID to fetch detailed information about the recipe, including ingredients and preparation steps.\\n\\n6. **Pair Wine with the Recipe**: With the selected recipe, use the `wine_pairing` function to find a suitable wine that complements the dish. The function requires the name of the dish.\\n\\n7. **Output the Recipe and Wine Pairing**: Present the detailed recipe information along with the wine pairing suggestion.\\n\\nBy following these steps, you will receive a tailored recipe suggestion based on current vegetable offers and a wine pairing that suits your dietary needs and taste preferences.'}]"
      ]
     },
     "execution_count": 96,
     "metadata": {},
     "output_type": "execute_result"
    }
   ],
   "source": [
    "messages"
   ]
  },
  {
   "cell_type": "markdown",
   "metadata": {},
   "source": [
    "To complete your request for a recipe suggestion using vegetables currently on offer and pairing it with a suitable wine, while considering your preference for European and Chinese cuisines and your peanut intolerance, I will follow these steps:\\n\\n1. **Retrieve Current Date**: Use the `get_current_date` function to determine today\\'s date. This will help in fetching the relevant offers for vegetables.\\n\\n2. **Fetch Vegetable Offers**: With the current date obtained, use the `fruit_and_veg_offers` function to retrieve the list of vegetables that are currently on offer. This function requires the date parameter, which should be the start of the current week.\\n\\n3. **Find Suitable Recipes**: Using the list of vegetables on offer, employ the `find_recipe` function to search for recipes. The parameters will include:\\n   - `query`: Use the names of the vegetables retrieved from the offers.\\n   - `exclude_ingredients`: Include \"peanuts\" to ensure the recipes are safe for your intolerance.\\n   - `cuisine`: Set to \"European\" and \"Chinese\" to match your cuisine preferences.\\n\\n4. **Select a Recipe**: From the list of recipes obtained, select one that appeals most based on your preferences or any additional criteria like preparation time or complexity.\\n\\n5. **Get Detailed Recipe Information**: Once a recipe is selected, use the `get_recipe_info` function with the recipe ID to fetch detailed information about the recipe, including ingredients and preparation steps.\\n\\n6. **Pair Wine with the Recipe**: With the selected recipe, use the `wine_pairing` function to find a suitable wine that complements the dish. The function requires the name of the dish.\\n\\n7. **Output the Recipe and Wine Pairing**: Present the detailed recipe information along with the wine pairing suggestion.\\n\\nBy following these steps, you will receive a tailored recipe suggestion based on current vegetable offers and a wine pairing that suits your dietary needs and taste preferences.'"
   ]
  },
  {
   "cell_type": "code",
   "execution_count": null,
   "metadata": {},
   "outputs": [],
   "source": []
  },
  {
   "cell_type": "code",
   "execution_count": 97,
   "metadata": {},
   "outputs": [],
   "source": [
    "responses = response_check(user_prompt, messages, model_gpt, summary_flag) # manually set flags and write comments\n",
    "# print_responses(responses)"
   ]
  },
  {
   "cell_type": "code",
   "execution_count": 98,
   "metadata": {},
   "outputs": [
    {
     "name": "stdout",
     "output_type": "stream",
     "text": [
      "completion: True\n",
      "correct_functions: True\n",
      "correct_params: True\n",
      "correct_interpretation: True\n",
      "external_error: False\n",
      "api_output_correct: True\n",
      "caused_error: False\n",
      "corrected_error: None\n",
      "LLM: gpt-4-turbo\n",
      "comments: perfect! does not take into account translations (like in all other cases)\n",
      "summary_flag: False\n",
      "steps: 0\n",
      "error: \n"
     ]
    }
   ],
   "source": [
    "# add error (domain) to new_row\n",
    "error_input = input(\"Error: \").strip()\n",
    "responses[\"error\"] = \" \" if error_input == None else error_input\n",
    "print_responses(responses)"
   ]
  },
  {
   "cell_type": "code",
   "execution_count": 99,
   "metadata": {},
   "outputs": [],
   "source": [
    "# load current row of df_prompts:\n",
    "new_row = df_not_completed.iloc[[counter]].copy(deep=True)\n",
    "\n",
    "# Update new_row with responses, handling types appropriately\n",
    "for key, value in responses.items():\n",
    "    if key in new_row.columns:\n",
    "        # Update the value in new_row for the corresponding key\n",
    "        new_row.at[new_row.index[0], key] = value"
   ]
  },
  {
   "cell_type": "code",
   "execution_count": 100,
   "metadata": {},
   "outputs": [
    {
     "data": {
      "text/html": [
       "<div>\n",
       "<style scoped>\n",
       "    .dataframe tbody tr th:only-of-type {\n",
       "        vertical-align: middle;\n",
       "    }\n",
       "\n",
       "    .dataframe tbody tr th {\n",
       "        vertical-align: top;\n",
       "    }\n",
       "\n",
       "    .dataframe thead th {\n",
       "        text-align: right;\n",
       "    }\n",
       "</style>\n",
       "<table border=\"1\" class=\"dataframe\">\n",
       "  <thead>\n",
       "    <tr style=\"text-align: right;\">\n",
       "      <th></th>\n",
       "      <th>ID</th>\n",
       "      <th>CONTROL_PROMPT_ID</th>\n",
       "      <th>user_prompt</th>\n",
       "      <th>LLM</th>\n",
       "      <th>intended_steps</th>\n",
       "      <th>completion</th>\n",
       "      <th>correct_functions</th>\n",
       "      <th>correct_params</th>\n",
       "      <th>correct_interpretation</th>\n",
       "      <th>comments</th>\n",
       "      <th>error</th>\n",
       "      <th>messages</th>\n",
       "    </tr>\n",
       "  </thead>\n",
       "  <tbody>\n",
       "    <tr>\n",
       "      <th>69</th>\n",
       "      <td>97</td>\n",
       "      <td>34</td>\n",
       "      <td>Using veggies that are currently on offer, ple...</td>\n",
       "      <td>gpt-4-turbo</td>\n",
       "      <td>4</td>\n",
       "      <td>True</td>\n",
       "      <td>True</td>\n",
       "      <td>True</td>\n",
       "      <td>True</td>\n",
       "      <td>perfect! does not take into account translatio...</td>\n",
       "      <td></td>\n",
       "      <td>[{'role': 'system', 'content': 'You are asked ...</td>\n",
       "    </tr>\n",
       "  </tbody>\n",
       "</table>\n",
       "</div>"
      ],
      "text/plain": [
       "    ID  CONTROL_PROMPT_ID                                        user_prompt  \\\n",
       "69  97                 34  Using veggies that are currently on offer, ple...   \n",
       "\n",
       "            LLM  intended_steps completion correct_functions correct_params  \\\n",
       "69  gpt-4-turbo               4       True              True           True   \n",
       "\n",
       "   correct_interpretation                                           comments  \\\n",
       "69                   True  perfect! does not take into account translatio...   \n",
       "\n",
       "   error                                           messages  \n",
       "69        [{'role': 'system', 'content': 'You are asked ...  "
      ]
     },
     "execution_count": 100,
     "metadata": {},
     "output_type": "execute_result"
    }
   ],
   "source": [
    "new_row.head()"
   ]
  },
  {
   "cell_type": "code",
   "execution_count": 101,
   "metadata": {},
   "outputs": [
    {
     "data": {
      "text/html": [
       "<div>\n",
       "<style scoped>\n",
       "    .dataframe tbody tr th:only-of-type {\n",
       "        vertical-align: middle;\n",
       "    }\n",
       "\n",
       "    .dataframe tbody tr th {\n",
       "        vertical-align: top;\n",
       "    }\n",
       "\n",
       "    .dataframe thead th {\n",
       "        text-align: right;\n",
       "    }\n",
       "</style>\n",
       "<table border=\"1\" class=\"dataframe\">\n",
       "  <thead>\n",
       "    <tr style=\"text-align: right;\">\n",
       "      <th></th>\n",
       "      <th>ID</th>\n",
       "      <th>CONTROL_PROMPT_ID</th>\n",
       "      <th>user_prompt</th>\n",
       "      <th>LLM</th>\n",
       "      <th>intended_steps</th>\n",
       "      <th>completion</th>\n",
       "      <th>correct_functions</th>\n",
       "      <th>correct_params</th>\n",
       "      <th>correct_interpretation</th>\n",
       "      <th>comments</th>\n",
       "      <th>error</th>\n",
       "      <th>messages</th>\n",
       "    </tr>\n",
       "  </thead>\n",
       "  <tbody>\n",
       "    <tr>\n",
       "      <th>11</th>\n",
       "      <td>68</td>\n",
       "      <td>37</td>\n",
       "      <td>Using veggies that are currently on offer, ple...</td>\n",
       "      <td>gpt-3.5-turbo</td>\n",
       "      <td>4</td>\n",
       "      <td>False</td>\n",
       "      <td>False</td>\n",
       "      <td>False</td>\n",
       "      <td>False</td>\n",
       "      <td>too vague, does not query for date</td>\n",
       "      <td>missing_crucial_step</td>\n",
       "      <td>[{'role': 'system', 'content': 'You are asked ...</td>\n",
       "    </tr>\n",
       "    <tr>\n",
       "      <th>12</th>\n",
       "      <td>69</td>\n",
       "      <td>34</td>\n",
       "      <td>Using veggies that are currently on offer, ple...</td>\n",
       "      <td>gpt-3.5-turbo</td>\n",
       "      <td>4</td>\n",
       "      <td>False</td>\n",
       "      <td>False</td>\n",
       "      <td>False</td>\n",
       "      <td>True</td>\n",
       "      <td>does not query for date, is somewhat unspecifi...</td>\n",
       "      <td>missing_crucial_step, vague</td>\n",
       "      <td>[{'role': 'system', 'content': 'You are asked ...</td>\n",
       "    </tr>\n",
       "    <tr>\n",
       "      <th>13</th>\n",
       "      <td>97</td>\n",
       "      <td>34</td>\n",
       "      <td>Using veggies that are currently on offer, ple...</td>\n",
       "      <td>gpt-4-turbo</td>\n",
       "      <td>4</td>\n",
       "      <td>True</td>\n",
       "      <td>True</td>\n",
       "      <td>True</td>\n",
       "      <td>True</td>\n",
       "      <td>perfect! does not take into account translatio...</td>\n",
       "      <td></td>\n",
       "      <td>[{'role': 'system', 'content': 'You are asked ...</td>\n",
       "    </tr>\n",
       "  </tbody>\n",
       "</table>\n",
       "</div>"
      ],
      "text/plain": [
       "    ID  CONTROL_PROMPT_ID                                        user_prompt  \\\n",
       "11  68                 37  Using veggies that are currently on offer, ple...   \n",
       "12  69                 34  Using veggies that are currently on offer, ple...   \n",
       "13  97                 34  Using veggies that are currently on offer, ple...   \n",
       "\n",
       "              LLM  intended_steps completion correct_functions correct_params  \\\n",
       "11  gpt-3.5-turbo               4      False             False          False   \n",
       "12  gpt-3.5-turbo               4      False             False          False   \n",
       "13    gpt-4-turbo               4       True              True           True   \n",
       "\n",
       "   correct_interpretation                                           comments  \\\n",
       "11                  False                 too vague, does not query for date   \n",
       "12                   True  does not query for date, is somewhat unspecifi...   \n",
       "13                   True  perfect! does not take into account translatio...   \n",
       "\n",
       "                          error  \\\n",
       "11         missing_crucial_step   \n",
       "12  missing_crucial_step, vague   \n",
       "13                                \n",
       "\n",
       "                                             messages  \n",
       "11  [{'role': 'system', 'content': 'You are asked ...  \n",
       "12  [{'role': 'system', 'content': 'You are asked ...  \n",
       "13  [{'role': 'system', 'content': 'You are asked ...  "
      ]
     },
     "execution_count": 101,
     "metadata": {},
     "output_type": "execute_result"
    }
   ],
   "source": [
    "# load previous responses as df\n",
    "df_path_nl = \"prompts_and_responses_02/nl_responses_02.csv\"\n",
    "df_nl = pd.read_csv(df_path_nl, sep=';')\n",
    "df_nl = pd.concat([df_nl, new_row], ignore_index=True)\n",
    "df_nl.tail(3)"
   ]
  },
  {
   "cell_type": "code",
   "execution_count": 102,
   "metadata": {},
   "outputs": [],
   "source": [
    "df_nl.to_csv(df_path_nl, index=False, sep=\";\")"
   ]
  },
  {
   "cell_type": "code",
   "execution_count": 83,
   "metadata": {},
   "outputs": [],
   "source": [
    "# TODO: Test out 4-step queries with a pre-pended task to first descripe the execution plan"
   ]
  },
  {
   "cell_type": "markdown",
   "metadata": {},
   "source": [
    "### Log results to W&B"
   ]
  },
  {
   "cell_type": "code",
   "execution_count": 107,
   "metadata": {},
   "outputs": [
    {
     "name": "stdout",
     "output_type": "stream",
     "text": [
      "Skipping column messages due to complex data type.\n"
     ]
    },
    {
     "data": {
      "text/html": [
       "<div>\n",
       "<style scoped>\n",
       "    .dataframe tbody tr th:only-of-type {\n",
       "        vertical-align: middle;\n",
       "    }\n",
       "\n",
       "    .dataframe tbody tr th {\n",
       "        vertical-align: top;\n",
       "    }\n",
       "\n",
       "    .dataframe thead th {\n",
       "        text-align: right;\n",
       "    }\n",
       "</style>\n",
       "<table border=\"1\" class=\"dataframe\">\n",
       "  <thead>\n",
       "    <tr style=\"text-align: right;\">\n",
       "      <th></th>\n",
       "      <th>ID</th>\n",
       "      <th>CONTROL_PROMPT_ID</th>\n",
       "      <th>user_prompt</th>\n",
       "      <th>LLM</th>\n",
       "      <th>intended_steps</th>\n",
       "      <th>completion</th>\n",
       "      <th>correct_functions</th>\n",
       "      <th>correct_params</th>\n",
       "      <th>correct_interpretation</th>\n",
       "      <th>comments</th>\n",
       "      <th>error</th>\n",
       "      <th>messages</th>\n",
       "      <th>steps</th>\n",
       "    </tr>\n",
       "  </thead>\n",
       "  <tbody>\n",
       "    <tr>\n",
       "      <th>11</th>\n",
       "      <td>68</td>\n",
       "      <td>37</td>\n",
       "      <td>Using veggies that are currently on offer, ple...</td>\n",
       "      <td>gpt-3.5-turbo</td>\n",
       "      <td>4</td>\n",
       "      <td>False</td>\n",
       "      <td>False</td>\n",
       "      <td>False</td>\n",
       "      <td>False</td>\n",
       "      <td>too vague, does not query for date</td>\n",
       "      <td>missing_crucial_step</td>\n",
       "      <td>\"[{'role': 'system', 'content': 'You are asked...</td>\n",
       "      <td>4</td>\n",
       "    </tr>\n",
       "    <tr>\n",
       "      <th>12</th>\n",
       "      <td>69</td>\n",
       "      <td>34</td>\n",
       "      <td>Using veggies that are currently on offer, ple...</td>\n",
       "      <td>gpt-3.5-turbo</td>\n",
       "      <td>4</td>\n",
       "      <td>False</td>\n",
       "      <td>False</td>\n",
       "      <td>False</td>\n",
       "      <td>True</td>\n",
       "      <td>does not query for date, is somewhat unspecifi...</td>\n",
       "      <td>missing_crucial_step, vague</td>\n",
       "      <td>\"[{'role': 'system', 'content': 'You are asked...</td>\n",
       "      <td>4</td>\n",
       "    </tr>\n",
       "    <tr>\n",
       "      <th>13</th>\n",
       "      <td>97</td>\n",
       "      <td>34</td>\n",
       "      <td>Using veggies that are currently on offer, ple...</td>\n",
       "      <td>gpt-4-turbo</td>\n",
       "      <td>4</td>\n",
       "      <td>True</td>\n",
       "      <td>True</td>\n",
       "      <td>True</td>\n",
       "      <td>True</td>\n",
       "      <td>perfect! does not take into account translatio...</td>\n",
       "      <td></td>\n",
       "      <td>[{\"role\": \"system\", \"content\": \"You are asked ...</td>\n",
       "      <td>4</td>\n",
       "    </tr>\n",
       "  </tbody>\n",
       "</table>\n",
       "</div>"
      ],
      "text/plain": [
       "    ID  CONTROL_PROMPT_ID                                        user_prompt  \\\n",
       "11  68                 37  Using veggies that are currently on offer, ple...   \n",
       "12  69                 34  Using veggies that are currently on offer, ple...   \n",
       "13  97                 34  Using veggies that are currently on offer, ple...   \n",
       "\n",
       "              LLM  intended_steps  completion  correct_functions  \\\n",
       "11  gpt-3.5-turbo               4       False              False   \n",
       "12  gpt-3.5-turbo               4       False              False   \n",
       "13    gpt-4-turbo               4        True               True   \n",
       "\n",
       "    correct_params  correct_interpretation  \\\n",
       "11           False                   False   \n",
       "12           False                    True   \n",
       "13            True                    True   \n",
       "\n",
       "                                             comments  \\\n",
       "11                 too vague, does not query for date   \n",
       "12  does not query for date, is somewhat unspecifi...   \n",
       "13  perfect! does not take into account translatio...   \n",
       "\n",
       "                          error  \\\n",
       "11         missing_crucial_step   \n",
       "12  missing_crucial_step, vague   \n",
       "13                                \n",
       "\n",
       "                                             messages  steps  \n",
       "11  \"[{'role': 'system', 'content': 'You are asked...      4  \n",
       "12  \"[{'role': 'system', 'content': 'You are asked...      4  \n",
       "13  [{\"role\": \"system\", \"content\": \"You are asked ...      4  "
      ]
     },
     "execution_count": 107,
     "metadata": {},
     "output_type": "execute_result"
    }
   ],
   "source": [
    "# Convert the DataFrame into a W&B Table\n",
    "log_df_nl = df_nl.copy(deep=True)\n",
    "log_df_nl = safe_replace_na_with_none(log_df_nl)\n",
    "log_df_nl['messages'] = log_df_nl['messages'].apply(json.dumps)\n",
    "# change the datatype of CONTROL_PROMPT_ID to int\n",
    "log_df_nl['CONTROL_PROMPT_ID'] = log_df_nl['CONTROL_PROMPT_ID'].astype(int)\n",
    "log_df_nl['steps'] = log_df_nl['intended_steps'].astype(int)\n",
    "log_df_nl.tail(3)"
   ]
  },
  {
   "cell_type": "code",
   "execution_count": 108,
   "metadata": {},
   "outputs": [
    {
     "data": {
      "text/plain": [
       "ArtifactManifestEntry(path='nl_responses_02.csv', digest='XEJQJ/fLd+mod5iE81NKJA==', size=123933, local_path='/Users/mayte/Library/Application Support/wandb/artifacts/staging/tmpshdi03io')"
      ]
     },
     "execution_count": 108,
     "metadata": {},
     "output_type": "execute_result"
    }
   ],
   "source": [
    "logging_table_nl = wandb.Table(dataframe=log_df_nl) # Convert the DataFrame into a W&B Table\n",
    "# Add the table to an Artifact to increase the row\n",
    "logging_table_artifact = wandb.Artifact(\"nl_query_plan\", type=\"dataset\")\n",
    "logging_table_artifact.add(logging_table_nl, \"nl_query_plan\")\n",
    "\n",
    "# Log the raw csv file within an artifact to preserve our data\n",
    "logging_table_artifact.add_file(df_path_nl)"
   ]
  },
  {
   "cell_type": "code",
   "execution_count": 109,
   "metadata": {},
   "outputs": [
    {
     "name": "stderr",
     "output_type": "stream",
     "text": [
      "\u001b[34m\u001b[1mwandb\u001b[0m: \u001b[33mWARNING\u001b[0m WANDB_NOTEBOOK_NAME should be a path to a notebook file, couldn't find LLM_multi_step_query.\n",
      "\u001b[34m\u001b[1mwandb\u001b[0m: Currently logged in as: \u001b[33mmisssophie\u001b[0m. Use \u001b[1m`wandb login --relogin`\u001b[0m to force relogin\n"
     ]
    },
    {
     "data": {
      "text/html": [
       "wandb version 0.17.1 is available!  To upgrade, please run:\n",
       " $ pip install wandb --upgrade"
      ],
      "text/plain": [
       "<IPython.core.display.HTML object>"
      ]
     },
     "metadata": {},
     "output_type": "display_data"
    },
    {
     "data": {
      "text/html": [
       "Tracking run with wandb version 0.16.4"
      ],
      "text/plain": [
       "<IPython.core.display.HTML object>"
      ]
     },
     "metadata": {},
     "output_type": "display_data"
    },
    {
     "data": {
      "text/html": [
       "Run data is saved locally in <code>/Users/mayte/GitHub/openAI_experiments/wandb/run-20240610_221522-n0qvweal</code>"
      ],
      "text/plain": [
       "<IPython.core.display.HTML object>"
      ]
     },
     "metadata": {},
     "output_type": "display_data"
    },
    {
     "data": {
      "text/html": [
       "Syncing run <strong><a href='https://wandb.ai/misssophie/LLM_multi_step_query/runs/n0qvweal' target=\"_blank\">trim-aardvark-147</a></strong> to <a href='https://wandb.ai/misssophie/LLM_multi_step_query' target=\"_blank\">Weights & Biases</a> (<a href='https://wandb.me/run' target=\"_blank\">docs</a>)<br/>"
      ],
      "text/plain": [
       "<IPython.core.display.HTML object>"
      ]
     },
     "metadata": {},
     "output_type": "display_data"
    },
    {
     "data": {
      "text/html": [
       " View project at <a href='https://wandb.ai/misssophie/LLM_multi_step_query' target=\"_blank\">https://wandb.ai/misssophie/LLM_multi_step_query</a>"
      ],
      "text/plain": [
       "<IPython.core.display.HTML object>"
      ]
     },
     "metadata": {},
     "output_type": "display_data"
    },
    {
     "data": {
      "text/html": [
       " View run at <a href='https://wandb.ai/misssophie/LLM_multi_step_query/runs/n0qvweal' target=\"_blank\">https://wandb.ai/misssophie/LLM_multi_step_query/runs/n0qvweal</a>"
      ],
      "text/plain": [
       "<IPython.core.display.HTML object>"
      ]
     },
     "metadata": {},
     "output_type": "display_data"
    },
    {
     "data": {
      "text/plain": [
       "<Artifact nl_query_plan>"
      ]
     },
     "execution_count": 109,
     "metadata": {},
     "output_type": "execute_result"
    }
   ],
   "source": [
    "WANDB_NOTEBOOK_NAME=\"LLM_multi_step_query\" # set notebook name\n",
    "# Initialize W&B\n",
    "run = wandb.init(\n",
    "    project=\"LLM_multi_step_query\",\n",
    "    entity=\"misssophie\"\n",
    "    )\n",
    "# Log the table to visualize with a run...\n",
    "run.log({\"nl_query_plan\": logging_table_nl})\n",
    "\n",
    "# and Log as an Artifact to increase the available row limit!\n",
    "run.log_artifact(logging_table_artifact)"
   ]
  },
  {
   "cell_type": "code",
   "execution_count": 110,
   "metadata": {},
   "outputs": [
    {
     "name": "stderr",
     "output_type": "stream",
     "text": [
      "wandb: WARNING Source type is set to 'repo' but some required information is missing from the environment. A job will not be created from this run. See https://docs.wandb.ai/guides/launch/create-job\n"
     ]
    },
    {
     "data": {
      "text/html": [
       " View run <strong style=\"color:#cdcd00\">trim-aardvark-147</strong> at: <a href='https://wandb.ai/misssophie/LLM_multi_step_query/runs/n0qvweal' target=\"_blank\">https://wandb.ai/misssophie/LLM_multi_step_query/runs/n0qvweal</a><br/>Synced 4 W&B file(s), 1 media file(s), 3 artifact file(s) and 0 other file(s)"
      ],
      "text/plain": [
       "<IPython.core.display.HTML object>"
      ]
     },
     "metadata": {},
     "output_type": "display_data"
    },
    {
     "data": {
      "text/html": [
       "Find logs at: <code>./wandb/run-20240610_221522-n0qvweal/logs</code>"
      ],
      "text/plain": [
       "<IPython.core.display.HTML object>"
      ]
     },
     "metadata": {},
     "output_type": "display_data"
    }
   ],
   "source": [
    "wandb.finish()"
   ]
  },
  {
   "cell_type": "markdown",
   "metadata": {},
   "source": [
    "# Testing Zone"
   ]
  },
  {
   "cell_type": "code",
   "execution_count": null,
   "metadata": {},
   "outputs": [],
   "source": []
  }
 ],
 "metadata": {
  "kernelspec": {
   "display_name": "Python 3 (ipykernel)",
   "language": "python",
   "name": "python3"
  },
  "language_info": {
   "codemirror_mode": {
    "name": "ipython",
    "version": 3
   },
   "file_extension": ".py",
   "mimetype": "text/x-python",
   "name": "python",
   "nbconvert_exporter": "python",
   "pygments_lexer": "ipython3",
   "version": "3.12.3"
  }
 },
 "nbformat": 4,
 "nbformat_minor": 2
}
